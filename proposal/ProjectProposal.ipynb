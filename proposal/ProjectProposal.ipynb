{
 "cells": [
  {
   "cell_type": "markdown",
   "metadata": {},
   "source": [
    "# COGS 108 - Project Proposal"
   ]
  },
  {
   "cell_type": "markdown",
   "metadata": {},
   "source": [
    "# Names & GitHub ID\n",
    "\n",
    "- Name: Yuan Tang\n",
    "- GitHub Username: holatangyuan"
   ]
  },
  {
   "cell_type": "markdown",
   "metadata": {},
   "source": [
    "# Research Question"
   ]
  },
  {
   "cell_type": "markdown",
   "metadata": {},
   "source": [
    "*$\\;\\;\\;\\;\\;\\;$How does the google ratings and reviews of the Parks & Recreation centers in San Diego relate to people’s commitment of time in physical activities and their health conditions? The research will typically center at different age groups.*"
   ]
  },
  {
   "cell_type": "markdown",
   "metadata": {},
   "source": [
    "## Background and Prior Work"
   ]
  },
  {
   "cell_type": "markdown",
   "metadata": {},
   "source": [
    "*$\\;\\;\\;\\;\\;\\;$There are more than 400 parks and 57 recreation centers in San Diego (1). The Parks & Recreation center (PRC) is one of the essential facilities in communities, which brings people happiness and opportunities to play with their pets, communicate with their friends and do sports. Plenty of evidence has shown that PRC encourages people to spend time on physical activities. Physical activities enhanced people’s cognitive abilities, such as perception, memory, intellect, and action (2). Physical exercises also benefit people from living a better quality of life and prevent people from anxiety, depression, and conduct disorder (2). Overall, physical activities mentally and physically advantage people’s health. According to Physical Activity Guidelines for Americans, children and adolescents should do 60 minutes of moderate-to-vigorous physical activity daily (3). Adults should do at least 150 minutes to 300 minutes per week to benefit their health (3). However, a significant number of American people did not reach the minimum requirements. According to CDC health statistics, 53.3% of adults met the guidelines for aerobic activity, and only 23.2% of adults met both aerobic and muscle-strengthening activities requirement (4). Encouraging people to spend time on outdoor physical exercise should be PRC’s priority. <br>$\\;\\;\\;\\;\\;\\;$People usually rate their experience on google map. So, the google ratings and reviews of the parks and recreation centers indicate how the PRCs’ overall qualities are. My research investigates the relationship between google ratings of PRCs in San Diego and the devotion of time people spend there. If the study concludes a positive relationship between those two factors, the government could make changes to PRCs base on those which have better ratings.* \n",
    "\n",
    "References (include links):\n",
    "- 1)https://www.sandiego.gov/parks-and-recreation\n",
    "- 2)https://pediatrics.aappublications.org/content/138/3/e20161642.long\n",
    "- 3)https://health.gov/sites/default/files/2019-09/Physical_Activity_Guidelines_2nd_edition.pdf\n",
    "- 4)https://www.cdc.gov/nchs/fastats/exercise.htm"
   ]
  },
  {
   "cell_type": "markdown",
   "metadata": {},
   "source": [
    "# Hypothesis\n"
   ]
  },
  {
   "cell_type": "markdown",
   "metadata": {},
   "source": [
    "*$\\;\\;\\;\\;\\;\\;$I hypothesize that better ratings, typically 4 to 5 stars, of parks and recreation centers in google should attract more people from all age groups corresponding to the facilities’ sizes, and people from all age groups should spend more time doing physical activities there, thus, result in average better health conditions. Small parks and recreation centers tend to have fewer reviews, but it does not necessarily mean that the facilities are not good, or people spend less time in those areas.*"
   ]
  },
  {
   "cell_type": "markdown",
   "metadata": {},
   "source": [
    "# Data"
   ]
  },
  {
   "cell_type": "markdown",
   "metadata": {},
   "source": [
    "*$\\;\\;\\;\\;\\;\\;$The ideal dataset for the google review system should include every park and recreation center’s name, the corresponding rating stars assigned, and the number of rating people. It would be even better if the number of positive reviews and negative reviews of each park and recreation center is available. Those data should from google and store in CSV format. The dataset for PRCs’ information should include every park and recreation center’s names, size, and average daily or weekly populations. The above dataset should from government official documentation and store in CSV format. The last dataset needs participants and is about their personal information, including each person’s identity number, gender, age, health condition, and average time devoted in corresponding parks and recreation centers. The dataset should have as many random observations as possible from people who live in San Diego.*"
   ]
  },
  {
   "cell_type": "markdown",
   "metadata": {},
   "source": [
    "# Ethics & Privacy"
   ]
  },
  {
   "cell_type": "markdown",
   "metadata": {},
   "source": [
    "*$\\;\\;\\;\\;\\;\\;$The data collected about parks and recreation centers would not have significant privacy issues. The PRCs’ names and locations are always available to the public. And the records of average populations in each park do not include any specific personal identifications. It is safe to use the PRC datasets from the government and google.<br>$\\;\\;\\;\\;\\;\\;$There should be concerns about the data of Google’s review system because the data may include Identifiable information, for instance, google accounts, nicknames, or e-mails of personal identifications. To protect reviewers’ privacy, I should replace all the identifiable information with numbers before data analysis. Moreover, the dataset about participants’ personal information should be collected under the participants' consent, and the data should be securely stored. Before doing the data analysis, every person’s name should be replaced by numbers. I will delete all personal data after the research.<br>$\\;\\;\\;\\;\\;\\;$The data are biased, and it is not universally true. In my research, the data is collected from San Diego, they may not imply the same pattern in other cities or states in the United States.*"
   ]
  },
  {
   "cell_type": "code",
   "execution_count": null,
   "metadata": {},
   "outputs": [],
   "source": []
  }
 ],
 "metadata": {
  "kernelspec": {
   "display_name": "Python 3",
   "language": "python",
   "name": "python3"
  },
  "language_info": {
   "codemirror_mode": {
    "name": "ipython",
    "version": 3
   },
   "file_extension": ".py",
   "mimetype": "text/x-python",
   "name": "python",
   "nbconvert_exporter": "python",
   "pygments_lexer": "ipython3",
   "version": "3.8.3"
  }
 },
 "nbformat": 4,
 "nbformat_minor": 2
}
